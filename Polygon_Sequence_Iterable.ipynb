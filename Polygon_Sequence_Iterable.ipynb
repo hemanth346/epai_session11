{
 "cells": [
  {
   "cell_type": "code",
   "execution_count": 1,
   "id": "c5cccd22",
   "metadata": {
    "ExecuteTime": {
     "end_time": "2021-07-24T17:51:17.025959Z",
     "start_time": "2021-07-24T17:51:17.013928Z"
    }
   },
   "outputs": [],
   "source": [
    "from polygon_sequence import PolygonSequence"
   ]
  },
  {
   "cell_type": "code",
   "execution_count": 2,
   "id": "d234f865",
   "metadata": {
    "ExecuteTime": {
     "end_time": "2021-07-24T17:51:17.041926Z",
     "start_time": "2021-07-24T17:51:17.025959Z"
    }
   },
   "outputs": [],
   "source": [
    "n = 5\n",
    "r = 10\n",
    "p = PolygonSequence(n,r)"
   ]
  },
  {
   "cell_type": "code",
   "execution_count": 3,
   "id": "d0538da1",
   "metadata": {
    "ExecuteTime": {
     "end_time": "2021-07-24T17:51:17.057975Z",
     "start_time": "2021-07-24T17:51:17.041926Z"
    }
   },
   "outputs": [
    {
     "data": {
      "text/plain": [
       "[This is a polygon of 3 edges with circumradius: 10,\n",
       " This is a polygon of 4 edges with circumradius: 10,\n",
       " This is a polygon of 5 edges with circumradius: 10]"
      ]
     },
     "execution_count": 3,
     "metadata": {},
     "output_type": "execute_result"
    }
   ],
   "source": [
    "p.sequence"
   ]
  },
  {
   "cell_type": "code",
   "execution_count": 4,
   "id": "5b8ef577",
   "metadata": {
    "ExecuteTime": {
     "end_time": "2021-07-24T17:51:17.073972Z",
     "start_time": "2021-07-24T17:51:17.057975Z"
    }
   },
   "outputs": [],
   "source": [
    "p_iter = iter(p)"
   ]
  },
  {
   "cell_type": "code",
   "execution_count": 5,
   "id": "da029e17",
   "metadata": {
    "ExecuteTime": {
     "end_time": "2021-07-24T17:51:17.089962Z",
     "start_time": "2021-07-24T17:51:17.073972Z"
    }
   },
   "outputs": [
    {
     "data": {
      "text/plain": [
       "False"
      ]
     },
     "execution_count": 5,
     "metadata": {},
     "output_type": "execute_result"
    }
   ],
   "source": [
    "# Not an iterator\n",
    "id(p) == id(p_iter)"
   ]
  },
  {
   "cell_type": "code",
   "execution_count": 6,
   "id": "d2693151",
   "metadata": {
    "ExecuteTime": {
     "end_time": "2021-07-24T17:51:17.105957Z",
     "start_time": "2021-07-24T17:51:17.089962Z"
    }
   },
   "outputs": [
    {
     "data": {
      "text/plain": [
       "True"
      ]
     },
     "execution_count": 6,
     "metadata": {},
     "output_type": "execute_result"
    }
   ],
   "source": [
    "# Iterator, returns self on iter call\n",
    "id(p_iter) == id(iter(p_iter))"
   ]
  },
  {
   "cell_type": "code",
   "execution_count": 7,
   "id": "c89b2327",
   "metadata": {
    "ExecuteTime": {
     "end_time": "2021-07-24T17:51:17.121962Z",
     "start_time": "2021-07-24T17:51:17.105957Z"
    }
   },
   "outputs": [
    {
     "data": {
      "text/plain": [
       "(This is a polygon of 3 edges with circumradius: 10,\n",
       " This is a polygon of 4 edges with circumradius: 10,\n",
       " This is a polygon of 5 edges with circumradius: 10)"
      ]
     },
     "execution_count": 7,
     "metadata": {},
     "output_type": "execute_result"
    }
   ],
   "source": [
    "next(p_iter),next(p_iter),next(p_iter)"
   ]
  },
  {
   "cell_type": "code",
   "execution_count": 8,
   "id": "7f4ca3ab",
   "metadata": {
    "ExecuteTime": {
     "end_time": "2021-07-24T17:51:17.277934Z",
     "start_time": "2021-07-24T17:51:17.121962Z"
    }
   },
   "outputs": [
    {
     "ename": "StopIteration",
     "evalue": "",
     "output_type": "error",
     "traceback": [
      "\u001b[1;31m---------------------------------------------------------------------------\u001b[0m",
      "\u001b[1;31mStopIteration\u001b[0m                             Traceback (most recent call last)",
      "\u001b[1;32m<ipython-input-8-9858c488e78b>\u001b[0m in \u001b[0;36m<module>\u001b[1;34m\u001b[0m\n\u001b[1;32m----> 1\u001b[1;33m \u001b[0mnext\u001b[0m\u001b[1;33m(\u001b[0m\u001b[0mp_iter\u001b[0m\u001b[1;33m)\u001b[0m\u001b[1;33m\u001b[0m\u001b[1;33m\u001b[0m\u001b[0m\n\u001b[0m",
      "\u001b[1;32m~\\Documents\\epai\\public_assignments\\epai_session11\\polygon_sequence.py\u001b[0m in \u001b[0;36m__next__\u001b[1;34m(self)\u001b[0m\n\u001b[0;32m     70\u001b[0m         \u001b[1;32mdef\u001b[0m \u001b[0m__next__\u001b[0m\u001b[1;33m(\u001b[0m\u001b[0mself\u001b[0m\u001b[1;33m)\u001b[0m\u001b[1;33m:\u001b[0m\u001b[1;33m\u001b[0m\u001b[1;33m\u001b[0m\u001b[0m\n\u001b[0;32m     71\u001b[0m             \u001b[1;32mif\u001b[0m \u001b[0mself\u001b[0m\u001b[1;33m.\u001b[0m\u001b[0mindex\u001b[0m \u001b[1;33m>=\u001b[0m \u001b[0mlen\u001b[0m\u001b[1;33m(\u001b[0m\u001b[0mself\u001b[0m\u001b[1;33m.\u001b[0m\u001b[0mpseq_obj\u001b[0m\u001b[1;33m)\u001b[0m\u001b[1;33m:\u001b[0m\u001b[1;33m\u001b[0m\u001b[1;33m\u001b[0m\u001b[0m\n\u001b[1;32m---> 72\u001b[1;33m                 \u001b[1;32mraise\u001b[0m \u001b[0mStopIteration\u001b[0m\u001b[1;33m\u001b[0m\u001b[1;33m\u001b[0m\u001b[0m\n\u001b[0m\u001b[0;32m     73\u001b[0m             \u001b[1;32melse\u001b[0m\u001b[1;33m:\u001b[0m\u001b[1;33m\u001b[0m\u001b[1;33m\u001b[0m\u001b[0m\n\u001b[0;32m     74\u001b[0m                 \u001b[0mpolygon\u001b[0m \u001b[1;33m=\u001b[0m \u001b[0mself\u001b[0m\u001b[1;33m.\u001b[0m\u001b[0mpseq_obj\u001b[0m\u001b[1;33m.\u001b[0m\u001b[0msequence\u001b[0m\u001b[1;33m[\u001b[0m\u001b[0mself\u001b[0m\u001b[1;33m.\u001b[0m\u001b[0mindex\u001b[0m\u001b[1;33m]\u001b[0m\u001b[1;33m\u001b[0m\u001b[1;33m\u001b[0m\u001b[0m\n",
      "\u001b[1;31mStopIteration\u001b[0m: "
     ]
    }
   ],
   "source": [
    "next(p_iter)"
   ]
  },
  {
   "cell_type": "code",
   "execution_count": null,
   "id": "839b8335",
   "metadata": {},
   "outputs": [],
   "source": []
  }
 ],
 "metadata": {
  "kernelspec": {
   "display_name": "Python 3",
   "language": "python",
   "name": "python3"
  },
  "language_info": {
   "codemirror_mode": {
    "name": "ipython",
    "version": 3
   },
   "file_extension": ".py",
   "mimetype": "text/x-python",
   "name": "python",
   "nbconvert_exporter": "python",
   "pygments_lexer": "ipython3",
   "version": "3.9.1"
  },
  "varInspector": {
   "cols": {
    "lenName": 16,
    "lenType": 16,
    "lenVar": 40
   },
   "kernels_config": {
    "python": {
     "delete_cmd_postfix": "",
     "delete_cmd_prefix": "del ",
     "library": "var_list.py",
     "varRefreshCmd": "print(var_dic_list())"
    },
    "r": {
     "delete_cmd_postfix": ") ",
     "delete_cmd_prefix": "rm(",
     "library": "var_list.r",
     "varRefreshCmd": "cat(var_dic_list()) "
    }
   },
   "types_to_exclude": [
    "module",
    "function",
    "builtin_function_or_method",
    "instance",
    "_Feature"
   ],
   "window_display": false
  }
 },
 "nbformat": 4,
 "nbformat_minor": 5
}
